{
 "cells": [
  {
   "cell_type": "code",
   "execution_count": 9,
   "metadata": {},
   "outputs": [
    {
     "name": "stdout",
     "output_type": "stream",
     "text": [
      "Функция: <function test_func at 0x00E16300> , аргумент(ы): (9, 2) {} , значение: 81\n",
      "81\n"
     ]
    }
   ],
   "source": [
    "def test_func(n,x):\n",
    "    return n ** x\n",
    "\n",
    "def logged(genuine_func):\n",
    "    def fake_func(*args, **kwargs):\n",
    "        result = genuine_func(*args, **kwargs)\n",
    "        print(\"Функция:\", repr(genuine_func), \", аргумент(ы):\", args, kwargs, \", значение:\", result)\n",
    "        return result\n",
    "    return fake_func\n",
    "\n",
    "test_func = logged(test_func)\n",
    "\n",
    "print(test_func(9,2))"
   ]
  },
  {
   "cell_type": "code",
   "execution_count": 16,
   "metadata": {},
   "outputs": [
    {
     "name": "stdout",
     "output_type": "stream",
     "text": [
      "Функция: <function thrill_func at 0x00F53150> , аргумент(ы): ('ctf',) {} , значение: 0ctf 1ctf 2ctf 3ctf 4ctf 5ctf 6ctf 7ctf 8ctf 9ctf 10ctf 11ctf 12ctf 13ctf 14ctf 15ctf 16ctf 17ctf 18ctf 19ctf\n",
      "0ctf 1ctf 2ctf 3ctf 4ctf 5ctf 6ctf 7ctf 8ctf 9ctf 10ctf 11ctf 12ctf 13ctf 14ctf 15ctf 16ctf 17ctf 18ctf 19ctf\n"
     ]
    }
   ],
   "source": [
    "@logged\n",
    "def thrill_func(s):\n",
    "    val = s\n",
    "    for i in range(1,20):\n",
    "        s = s + \" \" + str(i) + val\n",
    "    return \"0\"+s\n",
    "\n",
    "print(thrill_func(\"ctf\"))"
   ]
  },
  {
   "cell_type": "code",
   "execution_count": 34,
   "metadata": {},
   "outputs": [
    {
     "name": "stderr",
     "output_type": "stream",
     "text": [
      "Функция: <function coc at 0x0605B5D0> , аргумент(ы): (-13.0,) {} , значение: 71.0\n",
      "Функция: <function coc at 0x0605B5D0> , аргумент(ы): (-13.0,) {} , значение: 71.0\n",
      "Функция: <function coc at 0x0605B5D0> , аргумент(ы): (-12.5,) {} , значение: 61.25\n",
      "Функция: <function coc at 0x0605B5D0> , аргумент(ы): (-12.0,) {} , значение: 52.0\n",
      "Функция: <function coc at 0x0605B5D0> , аргумент(ы): (-11.5,) {} , значение: 43.25\n",
      "Функция: <function coc at 0x0605B5D0> , аргумент(ы): (-11.0,) {} , значение: 35.0\n",
      "Функция: <function coc at 0x0605B5D0> , аргумент(ы): (-10.5,) {} , значение: 27.25\n",
      "Функция: <function coc at 0x0605B5D0> , аргумент(ы): (-10.0,) {} , значение: 20.0\n",
      "Функция: <function coc at 0x0605B5D0> , аргумент(ы): (-9.5,) {} , значение: 13.25\n",
      "Функция: <function coc at 0x0605B5D0> , аргумент(ы): (-9.0,) {} , значение: 7.0\n",
      "Функция: <function coc at 0x0605B5D0> , аргумент(ы): (-8.5,) {} , значение: 1.25\n",
      "Функция: <function coc at 0x0605B5D0> , аргумент(ы): (-8.0,) {} , значение: -4.0\n",
      "Функция: <function coc at 0x0605B5D0> , аргумент(ы): (-7.5,) {} , значение: -8.75\n",
      "Функция: <function coc at 0x0605B5D0> , аргумент(ы): (-7.0,) {} , значение: -13.0\n",
      "Функция: <function coc at 0x0605B5D0> , аргумент(ы): (-6.5,) {} , значение: -16.75\n",
      "Функция: <function coc at 0x0605B5D0> , аргумент(ы): (-6.0,) {} , значение: -20.0\n",
      "Функция: <function coc at 0x0605B5D0> , аргумент(ы): (-5.5,) {} , значение: -22.75\n",
      "Функция: <function coc at 0x0605B5D0> , аргумент(ы): (-5.0,) {} , значение: -25.0\n",
      "Функция: <function coc at 0x0605B5D0> , аргумент(ы): (-4.5,) {} , значение: -26.75\n",
      "Функция: <function coc at 0x0605B5D0> , аргумент(ы): (-4.0,) {} , значение: -28.0\n",
      "Функция: <function coc at 0x0605B5D0> , аргумент(ы): (-3.5,) {} , значение: -28.75\n",
      "Функция: <function coc at 0x0605B5D0> , аргумент(ы): (-3.0,) {} , значение: -29.0\n",
      "Функция: <function coc at 0x0605B5D0> , аргумент(ы): (-2.5,) {} , значение: -28.75\n",
      "Функция: <function coc at 0x0605B5D0> , аргумент(ы): (-2.0,) {} , значение: -28.0\n",
      "Функция: <function coc at 0x0605B5D0> , аргумент(ы): (-1.5,) {} , значение: -26.75\n",
      "Функция: <function coc at 0x0605B5D0> , аргумент(ы): (-1.0,) {} , значение: -25.0\n",
      "Функция: <function coc at 0x0605B5D0> , аргумент(ы): (-0.5,) {} , значение: -22.75\n",
      "Функция: <function coc at 0x0605B5D0> , аргумент(ы): (0.0,) {} , значение: -20.0\n",
      "Функция: <function coc at 0x0605B5D0> , аргумент(ы): (0.5,) {} , значение: -16.75\n",
      "Функция: <function coc at 0x0605B5D0> , аргумент(ы): (1.0,) {} , значение: -13.0\n",
      "Функция: <function coc at 0x0605B5D0> , аргумент(ы): (1.5,) {} , значение: -8.75\n",
      "Функция: <function coc at 0x0605B5D0> , аргумент(ы): (2.0,) {} , значение: -4.0\n",
      "Функция: <function coc at 0x0605B5D0> , аргумент(ы): (2.5,) {} , значение: 1.25\n",
      "Функция: <function coc at 0x0605B5D0> , аргумент(ы): (3.0,) {} , значение: 7.0\n",
      "Функция: <function coc at 0x0605B5D0> , аргумент(ы): (3.5,) {} , значение: 13.25\n",
      "Функция: <function coc at 0x0605B5D0> , аргумент(ы): (4.0,) {} , значение: 20.0\n",
      "Функция: <function coc at 0x0605B5D0> , аргумент(ы): (4.5,) {} , значение: 27.25\n",
      "Функция: <function coc at 0x0605B5D0> , аргумент(ы): (5.0,) {} , значение: 35.0\n",
      "Функция: <function coc at 0x0605B5D0> , аргумент(ы): (5.5,) {} , значение: 43.25\n",
      "Функция: <function coc at 0x0605B5D0> , аргумент(ы): (6.0,) {} , значение: 52.0\n",
      "Функция: <function coc at 0x0605B5D0> , аргумент(ы): (6.5,) {} , значение: 61.25\n",
      "Функция: <function coc at 0x0605B5D0> , аргумент(ы): (7.0,) {} , значение: 71.0\n",
      "Функция: <function coc at 0x0605B5D0> , аргумент(ы): (7.5,) {} , значение: 81.25\n",
      "Функция: <function coc at 0x0605B5D0> , аргумент(ы): (8.0,) {} , значение: 92.0\n",
      "Функция: <function coc at 0x0605B5D0> , аргумент(ы): (8.5,) {} , значение: 103.25\n",
      "Функция: <function coc at 0x0605B5D0> , аргумент(ы): (9.0,) {} , значение: 115.0\n",
      "Функция: <function coc at 0x0605B5D0> , аргумент(ы): (9.5,) {} , значение: 127.25\n",
      "Функция: <function coc at 0x0605B5D0> , аргумент(ы): (10.0,) {} , значение: 140.0\n",
      "Функция: <function coc at 0x0605B5D0> , аргумент(ы): (10.5,) {} , значение: 153.25\n",
      "Функция: <function coc at 0x0605B5D0> , аргумент(ы): (11.0,) {} , значение: 167.0\n",
      "Функция: <function coc at 0x0605B5D0> , аргумент(ы): (11.5,) {} , значение: 181.25\n",
      "Функция: <function coc at 0x0605B5D0> , аргумент(ы): (12.0,) {} , значение: 196.0\n",
      "Функция: <function coc at 0x0605B5D0> , аргумент(ы): (12.5,) {} , значение: 211.25\n",
      "Функция: <function coc at 0x0605B5D0> , аргумент(ы): (13.0,) {} , значение: 227.0\n",
      "Функция: <function coc at 0x0605B5D0> , аргумент(ы): (13.5,) {} , значение: 243.25\n",
      "Функция: <function coc at 0x0605B5D0> , аргумент(ы): (14.0,) {} , значение: 260.0\n",
      "Функция: <function coc at 0x0605B5D0> , аргумент(ы): (14.5,) {} , значение: 277.25\n",
      "Функция: <function coc at 0x0605B5D0> , аргумент(ы): (15.0,) {} , значение: 295.0\n",
      "Функция: <function coc at 0x0605B5D0> , аргумент(ы): (15.5,) {} , значение: 313.25\n",
      "Функция: <function coc at 0x0605B5D0> , аргумент(ы): (16.0,) {} , значение: 332.0\n",
      "Функция: <function coc at 0x0605B5D0> , аргумент(ы): (16.5,) {} , значение: 351.25\n",
      "Функция: <function coc at 0x0605B5D0> , аргумент(ы): (17.0,) {} , значение: 371.0\n",
      "Функция: <function coc at 0x0605B5D0> , аргумент(ы): (17.5,) {} , значение: 391.25\n"
     ]
    },
    {
     "data": {
      "image/png": "[encoded data removed]",
      "text/plain": [
       "<Figure size 432x288 with 1 Axes>"
      ]
     },
     "metadata": {
      "needs_background": "light"
     },
     "output_type": "display_data"
    }
   ],
   "source": [
    "import sys\n",
    "import math\n",
    "import cmath\n",
    "import matplotlib.pyplot as plt\n",
    "import numpy as np\n",
    "\n",
    "def stream_logged(stream):\n",
    "    \"\"\"Log function args and val to red stream\"\"\"\n",
    "    def logging_decor(genuine_func):\n",
    "        def fake_func(*args, **kwargs):\n",
    "            result = genuine_func(*args, **kwargs)\n",
    "            print(\"Функция:\", repr(genuine_func), \", аргумент(ы):\", args, kwargs, \", значение:\", result, file = stream)\n",
    "            return result\n",
    "        return fake_func\n",
    "    return logging_decor\n",
    "\n",
    "def sqr(x):\n",
    "    return x ** 2\n",
    "\n",
    "@stream_logged(sys.stderr)\n",
    "def coc(q):\n",
    "    return q ** 2 + 6 * q - 20\n",
    "\n",
    "%matplotlib inline\n",
    "coords_1 = np.r_[-15:15:0.01]\n",
    "coords_2 = np.r_[-13:18:0.5]\n",
    "plt.plot(coords_1,np.vectorize(sqr)(coords_1))\n",
    "plt.plot(coords_2,np.vectorize(coc)(coords_2))\n",
    "plt.show()"
   ]
  },
  {
   "cell_type": "code",
   "execution_count": 50,
   "metadata": {},
   "outputs": [
    {
     "name": "stdout",
     "output_type": "stream",
     "text": [
      "Error: function must be used at least once\n",
      "((2,), {})\n",
      "\n",
      "559872\n"
     ]
    }
   ],
   "source": [
    "def repeat(n):\n",
    "    def logging_dec(func):\n",
    "        def fake_func(*args,**kwargs):\n",
    "            val = func(*args,**kwargs)\n",
    "            for i in range(1,n):\n",
    "                val = func(val)\n",
    "            result = val\n",
    "            if (n < 1):\n",
    "                print(\"Error: function must be used at least once\")\n",
    "                return args, kwargs\n",
    "            else:\n",
    "                return result\n",
    "        return fake_func\n",
    "    return logging_dec\n",
    "        \n",
    "@repeat(0)\n",
    "def up(x):\n",
    "    return x + 1\n",
    "\n",
    "print(up(2))\n",
    "print()\n",
    "\n",
    "@repeat(7)\n",
    "def mult(x):\n",
    "    return x * 6\n",
    "\n",
    "print(mult(2))"
   ]
  }
 ],
 "metadata": {
  "kernelspec": {
   "display_name": "Python 3",
   "language": "python",
   "name": "python3"
  },
  "language_info": {
   "codemirror_mode": {
    "name": "ipython",
    "version": 3
   },
   "file_extension": ".py",
   "mimetype": "text/x-python",
   "name": "python",
   "nbconvert_exporter": "python",
   "pygments_lexer": "ipython3",
   "version": "3.7.4"
  }
 },
 "nbformat": 4,
 "nbformat_minor": 4
}

{
 "cells": [
  {
   "cell_type": "code",
   "execution_count": 23,
   "metadata": {},
   "outputs": [
    {
     "data": {
      "text/plain": [
       "(16, -4, 1)"
      ]
     },
     "execution_count": 23,
     "metadata": {},
     "output_type": "execute_result"
    }
   ],
   "source": [
    "#def gcd(a,b):\n",
    "#    val = max(a,b)\n",
    "#    while (val > 0):\n",
    "#        if (val % min(a,b) != 0):\n",
    "#            val = min(a,b)\n",
    "#            if (a >= b):\n",
    "#                a = max(a,b) % min(a,b)\n",
    "#            else:\n",
    "#                b = max(a,b) % min(a,b)\n",
    "#        else:\n",
    "#            return min(a,b)\n",
    "        \n",
    "#STEALED        \n",
    "def gcd(a,b,x,y):\n",
    "    if (a == 0):\n",
    "        x = 0\n",
    "        y = 1\n",
    "        return b,x,y\n",
    "    x1 = None\n",
    "    y1 = None\n",
    "    d = gcd(b % a,a,x1,y1)[0]\n",
    "    x1 = gcd(b % a,a,x1,y1)[1]\n",
    "    y1 = gcd(b % a,a,x1,y1)[2]\n",
    "    x = y1 - (b // a) * x1\n",
    "    y = x1\n",
    "    return d,x,y\n",
    "\n",
    "gcd(32,144,None,None)"
   ]
  }
 ],
 "metadata": {
  "kernelspec": {
   "display_name": "Python 3",
   "language": "python",
   "name": "python3"
  },
  "language_info": {
   "codemirror_mode": {
    "name": "ipython",
    "version": 3
   },
   "file_extension": ".py",
   "mimetype": "text/x-python",
   "name": "python",
   "nbconvert_exporter": "python",
   "pygments_lexer": "ipython3",
   "version": "3.7.4"
  }
 },
 "nbformat": 4,
 "nbformat_minor": 4
}

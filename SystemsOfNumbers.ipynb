{
 "cells": [
  {
   "cell_type": "code",
   "execution_count": 76,
   "metadata": {},
   "outputs": [
    {
     "name": "stdout",
     "output_type": "stream",
     "text": [
      "91\n",
      "3S\n",
      "XYZ\n",
      "ZYXIS\n",
      "2048\n",
      "2048\n",
      "6232\n"
     ]
    }
   ],
   "source": [
    "def str_base(a: 'int', b: 'int') -> 'str':\n",
    "    vals = []\n",
    "    while (a != 0):\n",
    "        vals.append(a % b)\n",
    "        a = a // b\n",
    "    val = \"\"\n",
    "    vals.reverse()\n",
    "    for i in range(0,len(vals)):\n",
    "        if (vals[i] < 10):\n",
    "            val = val + str(vals[i])\n",
    "        else:\n",
    "            val = val + chr(ord(\"A\") - 10 + vals[i])\n",
    "    return val\n",
    "print(str_base(136, 15))\n",
    "print(str_base(136, 36))\n",
    "print(str_base(44027, 36))  # хочется увидеть 'XYZ' \n",
    "print(str_base(60416308, 36))\n",
    "print(int(str_base(2048,36),36))\n",
    "print(int(str_base(2048,16),16))\n",
    "print(int(str_base(6232,15),15))"
   ]
  },
  {
   "cell_type": "code",
   "execution_count": 65,
   "metadata": {},
   "outputs": [
    {
     "name": "stdout",
     "output_type": "stream",
     "text": [
      "136\n",
      "136\n"
     ]
    }
   ],
   "source": [
    "s = str(3 * 36 + 28)\n",
    "print(s)\n",
    "print(int(\"3S\",36))"
   ]
  }
 ],
 "metadata": {
  "kernelspec": {
   "display_name": "Python 3",
   "language": "python",
   "name": "python3"
  },
  "language_info": {
   "codemirror_mode": {
    "name": "ipython",
    "version": 3
   },
   "file_extension": ".py",
   "mimetype": "text/x-python",
   "name": "python",
   "nbconvert_exporter": "python",
   "pygments_lexer": "ipython3",
   "version": "3.7.4"
  }
 },
 "nbformat": 4,
 "nbformat_minor": 4
}

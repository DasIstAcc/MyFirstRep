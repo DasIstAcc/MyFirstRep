{
 "cells": [
  {
   "cell_type": "code",
   "execution_count": 37,
   "metadata": {},
   "outputs": [
    {
     "name": "stdout",
     "output_type": "stream",
     "text": [
      "16\n",
      "True\n",
      "False\n",
      "True\n",
      "True\n"
     ]
    }
   ],
   "source": [
    "import math\n",
    "\n",
    "#Return gcd(a,b)\n",
    "def gcd(a,b):\n",
    "    val = max(a,b)\n",
    "    while (val > 0):\n",
    "        if (val % min(a,b) != 0):\n",
    "            val = min(a,b)\n",
    "            if (a >= b):\n",
    "                a = max(a,b) % min(a,b)\n",
    "            else:\n",
    "                b = max(a,b) % min(a,b)\n",
    "        else:\n",
    "            return min(a,b)\n",
    "print(gcd(16,1536))\n",
    "\n",
    "#Check simple (M.T. Ferma, algebra is good)\n",
    "def is_simple(p):\n",
    "    a = 2\n",
    "    while (gcd(a,p) != 1):\n",
    "        a = a + 1\n",
    "    if (a**(p-1) % p == 1):\n",
    "        return True\n",
    "    else:\n",
    "        return False\n",
    "print(is_simple(599))\n",
    "print(is_simple(12))\n",
    "print(is_simple(11))\n",
    "print(is_simple(7))"
   ]
  },
  {
   "cell_type": "code",
   "execution_count": null,
   "metadata": {},
   "outputs": [],
   "source": [
    "def min(a,b):\n",
    "    if (a >= b):\n",
    "        return b\n",
    "    else:\n",
    "        return a\n",
    "def max(a,b):\n",
    "    if (a >= b):\n",
    "        return a\n",
    "    else:\n",
    "        return b\n",
    "#Doesn't work for reason\n",
    "def gcd(a,b):\n",
    "    val = max(a,b)    \n",
    "    while (val > 0):\n",
    "        if (val % min(a,b) != 0):\n",
    "            val = min(a,b)\n",
    "            max(a,b) = max(a,b) % min(a,b)\n",
    "        else:\n",
    "            return val % min(a,b)\n",
    "print(gcd(6,6))"
   ]
  }
 ],
 "metadata": {
  "kernelspec": {
   "display_name": "Python 3",
   "language": "python",
   "name": "python3"
  },
  "language_info": {
   "codemirror_mode": {
    "name": "ipython",
    "version": 3
   },
   "file_extension": ".py",
   "mimetype": "text/x-python",
   "name": "python",
   "nbconvert_exporter": "python",
   "pygments_lexer": "ipython3",
   "version": "3.7.4"
  }
 },
 "nbformat": 4,
 "nbformat_minor": 4
}

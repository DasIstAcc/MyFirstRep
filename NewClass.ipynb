{
 "cells": [
  {
   "cell_type": "code",
   "execution_count": 84,
   "metadata": {},
   "outputs": [],
   "source": [
    "from __future__ import annotations\n",
    "\n",
    "class Noombers:\n",
    "    \"\"\" Mysterious One\"\"\"\n",
    "    coeff = 0\n",
    "    addict = 0\n",
    "    val = 0\n",
    "    def __init__(self, a = 0, b = 0,c = 0):\n",
    "        self.coeff = b\n",
    "        self.addict = c\n",
    "        self.val = a\n",
    "    def __str__(self) -> str:\n",
    "        return str(self.val)\n",
    "    def __int__(self) -> int:\n",
    "        return self.val\n",
    "    def __mul__(self, other) -> Noombers:\n",
    "        if (type(other) == Noombers):\n",
    "            return Noombers(self.val * other.val * (1 + self.coeff) * (1 + other.coeff),self.coeff,self.addict)\n",
    "        else:\n",
    "            self.addict += 0.5\n",
    "            return Noombers(self.val * other.val * (1 + self.coeff),self.coeff,self.addict)\n",
    "    def __add__(self,other) -> Noombers:\n",
    "        if (type(other) == Noombers):\n",
    "            self.coeff += 0.01\n",
    "            return Noombers(self.val + other.val + self.addict + other.addict,self.coeff,self.addict)\n",
    "        else:\n",
    "            return Noombers(self.val + other.val + self.addict,self.coeff,self.addict)\n",
    "    def __sub__(self,other) -> Noombers:\n",
    "        if (type(other) == Noombers):\n",
    "            return Noombers(self.val - other.val + self.addict - other.addict,self.coeff,self.addict)\n",
    "    def __neg__(self) -> Noombers:\n",
    "        return Noombers(-self.val,self.coeff,-self.addict)\n",
    "    def __truediv__(self, other) -> Noombers:\n",
    "        if (type(other) == Noombers):\n",
    "            result = (self.val + self.addict) * (1 + self.coeff) / (other.val * (1 + other.coeff))\n",
    "            other.addict += 2\n",
    "            other.coeff += 1.5\n",
    "            self.addict += 1\n",
    "            self.coeff += 0.75\n",
    "            return Noombers(result,self.coeff,self.addict)\n",
    "        else:\n",
    "            self.addict += 1\n",
    "            self.coeff += 0.75\n",
    "            return Noombers((self.val + self.addict) / (other.val * (1 + self.coeff)),self.coeff,self.addict)\n"
   ]
  },
  {
   "cell_type": "code",
   "execution_count": 89,
   "metadata": {},
   "outputs": [
    {
     "name": "stdout",
     "output_type": "stream",
     "text": [
      "5\n",
      "3\n",
      "8\n",
      "2\n",
      "15.15\n",
      "-1.6833333333333333\n",
      "9\n",
      "142.578\n",
      "142.578\n",
      "5.933333333333334\n",
      "17\n",
      "0.78 1.5 1.54\n"
     ]
    }
   ],
   "source": [
    "a = Noombers(5)\n",
    "b = Noombers(3)\n",
    "\n",
    "print(a)\n",
    "print(b)\n",
    "print(a + b)\n",
    "print(a - b)\n",
    "print(a * b)\n",
    "print(a / -b)\n",
    "print(a + b)\n",
    "c = a + b\n",
    "print(a * c)\n",
    "print(c / b)\n",
    "print(c + a)\n",
    "print(a.coeff,b.coeff,c.coeff)\n"
   ]
  }
 ],
 "metadata": {
  "kernelspec": {
   "display_name": "Python 3",
   "language": "python",
   "name": "python3"
  },
  "language_info": {
   "codemirror_mode": {
    "name": "ipython",
    "version": 3
   },
   "file_extension": ".py",
   "mimetype": "text/x-python",
   "name": "python",
   "nbconvert_exporter": "python",
   "pygments_lexer": "ipython3",
   "version": "3.7.4"
  }
 },
 "nbformat": 4,
 "nbformat_minor": 4
}

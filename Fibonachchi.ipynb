{
 "cells": [
  {
   "cell_type": "code",
   "execution_count": 13,
   "metadata": {},
   "outputs": [
    {
     "name": "stdout",
     "output_type": "stream",
     "text": [
      "1 1\n",
      "2 1\n",
      "3 2\n",
      "4 3\n",
      "5 5\n",
      "6 8\n",
      "7 13\n",
      "8 21\n",
      "9 34\n",
      "0.8224301000000196\n",
      "1 1\n",
      "2 1\n",
      "3 2\n",
      "4 3\n",
      "5 5\n",
      "6 8\n",
      "7 13\n",
      "8 21\n",
      "9 34\n",
      "0.08282039999994595\n"
     ]
    }
   ],
   "source": [
    "import timeit as ti\n",
    "import functools\n",
    "\n",
    "# Без мемоизации\n",
    "def fib_1(n):\n",
    "    if n == 1 or n == 2:\n",
    "        return 1\n",
    "    f = 1\n",
    "    fp = 1\n",
    "    for i in range(n-2):\n",
    "        f, fp = f + fp, f\n",
    "    return f\n",
    "\n",
    "for n in range(1, 10):\n",
    "    print(n, fib_1(n))\n",
    "\n",
    "print(ti.timeit(\"fib_1(10)\", setup=\"from __main__ import fib_1\"))\n",
    "\n",
    "# С мемоизацией\n",
    "@functools.lru_cache()\n",
    "def fib_2(n):\n",
    "    if n == 1 or n == 2:\n",
    "        return 1\n",
    "    else:\n",
    "        return fib_2(n-1) + fib_2(n-2)\n",
    "\n",
    "for n in range(1, 10):\n",
    "    print(n, fib_2(n))\n",
    "\n",
    "print(ti.timeit(\"fib_2(10)\",setup=\"from __main__ import fib_2\"))\n",
    "\n",
    "# По итогам разница на проядок "
   ]
  },
  {
   "cell_type": "code",
   "execution_count": 14,
   "metadata": {},
   "outputs": [
    {
     "name": "stdout",
     "output_type": "stream",
     "text": [
      "1 1\n",
      "2 1\n",
      "3 2\n",
      "4 3\n",
      "5 5\n",
      "6 8\n",
      "7 13\n",
      "8 21\n",
      "9 34\n",
      "0.08864359999995486\n"
     ]
    }
   ],
   "source": [
    "import functools\n",
    "import timeit as ti\n",
    "\n",
    "\n",
    "@functools.lru_cache()\n",
    "def fib_2(n):\n",
    "    if n == 1 or n == 2:\n",
    "        return 1\n",
    "    else:\n",
    "        return fib_2(n-1) + fib_2(n-2)\n",
    "\n",
    "for n in range(1, 10):\n",
    "    print(n, fib_2(n))\n",
    "\n",
    "print(ti.timeit(\"fib_2(10)\",setup=\"from __main__ import fib_2\"))"
   ]
  }
 ],
 "metadata": {
  "kernelspec": {
   "display_name": "Python 3",
   "language": "python",
   "name": "python3"
  },
  "language_info": {
   "codemirror_mode": {
    "name": "ipython",
    "version": 3
   },
   "file_extension": ".py",
   "mimetype": "text/x-python",
   "name": "python",
   "nbconvert_exporter": "python",
   "pygments_lexer": "ipython3",
   "version": "3.7.4"
  }
 },
 "nbformat": 4,
 "nbformat_minor": 4
}
